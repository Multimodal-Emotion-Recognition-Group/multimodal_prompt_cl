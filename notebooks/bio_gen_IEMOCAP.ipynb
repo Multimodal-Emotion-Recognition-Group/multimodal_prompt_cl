{
 "cells": [
  {
   "cell_type": "code",
   "execution_count": 1,
   "metadata": {},
   "outputs": [],
   "source": [
    "import os\n",
    "# os.environ[\"CUDA_VISIBLE_DEVICES\"] = \"1\"\n",
    "import numpy as np\n",
    "import pandas as pd\n",
    "from tqdm import tqdm\n",
    "\n",
    "from langchain_ollama import ChatOllama\n",
    "from langchain_core.messages import SystemMessage, HumanMessage"
   ]
  },
  {
   "cell_type": "code",
   "execution_count": 2,
   "metadata": {},
   "outputs": [
    {
     "data": {
      "text/html": [
       "<div>\n",
       "<style scoped>\n",
       "    .dataframe tbody tr th:only-of-type {\n",
       "        vertical-align: middle;\n",
       "    }\n",
       "\n",
       "    .dataframe tbody tr th {\n",
       "        vertical-align: top;\n",
       "    }\n",
       "\n",
       "    .dataframe thead th {\n",
       "        text-align: right;\n",
       "    }\n",
       "</style>\n",
       "<table border=\"1\" class=\"dataframe\">\n",
       "  <thead>\n",
       "    <tr style=\"text-align: right;\">\n",
       "      <th></th>\n",
       "      <th>session</th>\n",
       "      <th>fn</th>\n",
       "      <th>idx</th>\n",
       "      <th>sex</th>\n",
       "      <th>emotion</th>\n",
       "      <th>text</th>\n",
       "      <th>audio_caption</th>\n",
       "    </tr>\n",
       "  </thead>\n",
       "  <tbody>\n",
       "    <tr>\n",
       "      <th>0</th>\n",
       "      <td>1</td>\n",
       "      <td>Ses01F_impro07</td>\n",
       "      <td>0</td>\n",
       "      <td>M</td>\n",
       "      <td>exc</td>\n",
       "      <td>Did you get the letter?</td>\n",
       "      <td>The speaker's voice is that of an English male...</td>\n",
       "    </tr>\n",
       "    <tr>\n",
       "      <th>1</th>\n",
       "      <td>1</td>\n",
       "      <td>Ses01F_impro07</td>\n",
       "      <td>1</td>\n",
       "      <td>F</td>\n",
       "      <td>exc</td>\n",
       "      <td>Yes.  There's a big envelope it says, you're i...</td>\n",
       "      <td>The speaker's voice is high-pitched with a you...</td>\n",
       "    </tr>\n",
       "    <tr>\n",
       "      <th>2</th>\n",
       "      <td>1</td>\n",
       "      <td>Ses01F_impro07</td>\n",
       "      <td>2</td>\n",
       "      <td>M</td>\n",
       "      <td>exc</td>\n",
       "      <td>Yeah. That is so awesome.</td>\n",
       "      <td>The speaker's voice has a bright quality with ...</td>\n",
       "    </tr>\n",
       "    <tr>\n",
       "      <th>3</th>\n",
       "      <td>1</td>\n",
       "      <td>Ses01F_impro07</td>\n",
       "      <td>4</td>\n",
       "      <td>M</td>\n",
       "      <td>exc</td>\n",
       "      <td>Oh my God. What are you going to do? [LAUGHTER]</td>\n",
       "      <td>The speaker's voice has a light and airy quali...</td>\n",
       "    </tr>\n",
       "    <tr>\n",
       "      <th>4</th>\n",
       "      <td>1</td>\n",
       "      <td>Ses01F_impro07</td>\n",
       "      <td>5</td>\n",
       "      <td>F</td>\n",
       "      <td>exc</td>\n",
       "      <td>So I have to move back to the ghetto but...I k...</td>\n",
       "      <td>The speaker's voice has a light and airy quali...</td>\n",
       "    </tr>\n",
       "  </tbody>\n",
       "</table>\n",
       "</div>"
      ],
      "text/plain": [
       "   session              fn  idx sex emotion  \\\n",
       "0        1  Ses01F_impro07    0   M     exc   \n",
       "1        1  Ses01F_impro07    1   F     exc   \n",
       "2        1  Ses01F_impro07    2   M     exc   \n",
       "3        1  Ses01F_impro07    4   M     exc   \n",
       "4        1  Ses01F_impro07    5   F     exc   \n",
       "\n",
       "                                                text  \\\n",
       "0                            Did you get the letter?   \n",
       "1  Yes.  There's a big envelope it says, you're i...   \n",
       "2                          Yeah. That is so awesome.   \n",
       "3    Oh my God. What are you going to do? [LAUGHTER]   \n",
       "4  So I have to move back to the ghetto but...I k...   \n",
       "\n",
       "                                       audio_caption  \n",
       "0  The speaker's voice is that of an English male...  \n",
       "1  The speaker's voice is high-pitched with a you...  \n",
       "2  The speaker's voice has a bright quality with ...  \n",
       "3  The speaker's voice has a light and airy quali...  \n",
       "4  The speaker's voice has a light and airy quali...  "
      ]
     },
     "execution_count": 2,
     "metadata": {},
     "output_type": "execute_result"
    }
   ],
   "source": [
    "data = pd.read_csv('../data/IEMOCAP/modified_audio_data.csv')\n",
    "data.head()"
   ]
  },
  {
   "cell_type": "code",
   "execution_count": 3,
   "metadata": {},
   "outputs": [
    {
     "data": {
      "text/plain": [
       "151"
      ]
     },
     "execution_count": 3,
     "metadata": {},
     "output_type": "execute_result"
    }
   ],
   "source": [
    "dia_ids = sorted(data['fn'].unique())\n",
    "len(dia_ids)"
   ]
  },
  {
   "cell_type": "code",
   "execution_count": 4,
   "metadata": {},
   "outputs": [],
   "source": [
    "# sys_prompt = SystemMessage(\n",
    "#     \"\"\"You are a useful AI assistant that specializes in describing person's behavior on their lines in a conversation. \n",
    "#     You get a part of conversation and a name of person you need to describe. Use maximum 100 tokens to describe person. Return ONLY person's description.\"\"\"\n",
    "# )\n",
    "\n",
    "sys_prompt = SystemMessage(\n",
    "    \"\"\"You are an expert at analyzing the emotion of utterances among speakers in a conversation. \n",
    "    You get a part of conversation and a name of person you need to describe. Return ONLY person's description.\"\"\"\n",
    ")"
   ]
  },
  {
   "cell_type": "code",
   "execution_count": 5,
   "metadata": {},
   "outputs": [],
   "source": [
    "model = ChatOllama(model=\"qwen2.5:7b-instruct\", num_ctx=2048)"
   ]
  },
  {
   "cell_type": "markdown",
   "metadata": {},
   "source": [
    "# Description based on full dialogue"
   ]
  },
  {
   "cell_type": "code",
   "execution_count": 6,
   "metadata": {},
   "outputs": [
    {
     "name": "stderr",
     "output_type": "stream",
     "text": [
      "100%|██████████████████████████████████████████████████████████████████████████████████████████████████████████████████████████████████████████████████████████████████████████████████████████████████████| 151/151 [02:47<00:00,  1.11s/it]\n"
     ]
    }
   ],
   "source": [
    "bios = {\n",
    "    'fn': [],\n",
    "    'sex': [],\n",
    "    'bio': [],\n",
    "}\n",
    "\n",
    "for d_id in tqdm(dia_ids):\n",
    "    dia = data.loc[data['fn'] == d_id].sort_values('idx')\n",
    "    dia_text = \"\"\n",
    "    for i, utt in dia.iterrows():\n",
    "        dia_text += f\"{utt['sex']}: {utt['text']} \\n \"\n",
    "    \n",
    "    for spk in dia['sex'].unique():\n",
    "        inp = HumanMessage(f\"Given this conversation between speakers:\\n {slice} \\n In overall above conversation, what do you think about the characteristics of speaker {spk}?  (Note: provide an answer within 100 words)\")\n",
    "        desc = model.invoke([sys_prompt, inp]).content\n",
    "        \n",
    "        bios['fn'].append(d_id)\n",
    "        bios['sex'].append(spk)\n",
    "        bios['bio'].append(desc)"
   ]
  },
  {
   "cell_type": "code",
   "execution_count": 7,
   "metadata": {},
   "outputs": [
    {
     "data": {
      "text/html": [
       "<div>\n",
       "<style scoped>\n",
       "    .dataframe tbody tr th:only-of-type {\n",
       "        vertical-align: middle;\n",
       "    }\n",
       "\n",
       "    .dataframe tbody tr th {\n",
       "        vertical-align: top;\n",
       "    }\n",
       "\n",
       "    .dataframe thead th {\n",
       "        text-align: right;\n",
       "    }\n",
       "</style>\n",
       "<table border=\"1\" class=\"dataframe\">\n",
       "  <thead>\n",
       "    <tr style=\"text-align: right;\">\n",
       "      <th></th>\n",
       "      <th>fn</th>\n",
       "      <th>sex</th>\n",
       "      <th>bio</th>\n",
       "    </tr>\n",
       "  </thead>\n",
       "  <tbody>\n",
       "    <tr>\n",
       "      <th>0</th>\n",
       "      <td>Ses01F_impro01</td>\n",
       "      <td>F</td>\n",
       "      <td>Speaker F appears to be a calm and composed in...</td>\n",
       "    </tr>\n",
       "    <tr>\n",
       "      <th>1</th>\n",
       "      <td>Ses01F_impro01</td>\n",
       "      <td>M</td>\n",
       "      <td>Speaker M appears confident and direct in the ...</td>\n",
       "    </tr>\n",
       "    <tr>\n",
       "      <th>2</th>\n",
       "      <td>Ses01F_impro02</td>\n",
       "      <td>F</td>\n",
       "      <td>Speaker F appears to be a thoughtful and refle...</td>\n",
       "    </tr>\n",
       "    <tr>\n",
       "      <th>3</th>\n",
       "      <td>Ses01F_impro02</td>\n",
       "      <td>M</td>\n",
       "      <td>Speaker M appears to be assertive and possibly...</td>\n",
       "    </tr>\n",
       "    <tr>\n",
       "      <th>4</th>\n",
       "      <td>Ses01F_impro03</td>\n",
       "      <td>M</td>\n",
       "      <td>Speaker M appears to be assertive and direct i...</td>\n",
       "    </tr>\n",
       "  </tbody>\n",
       "</table>\n",
       "</div>"
      ],
      "text/plain": [
       "               fn sex                                                bio\n",
       "0  Ses01F_impro01   F  Speaker F appears to be a calm and composed in...\n",
       "1  Ses01F_impro01   M  Speaker M appears confident and direct in the ...\n",
       "2  Ses01F_impro02   F  Speaker F appears to be a thoughtful and refle...\n",
       "3  Ses01F_impro02   M  Speaker M appears to be assertive and possibly...\n",
       "4  Ses01F_impro03   M  Speaker M appears to be assertive and direct i..."
      ]
     },
     "execution_count": 7,
     "metadata": {},
     "output_type": "execute_result"
    }
   ],
   "source": [
    "bios = pd.DataFrame(bios)\n",
    "bios.head()"
   ]
  },
  {
   "cell_type": "code",
   "execution_count": 8,
   "metadata": {},
   "outputs": [
    {
     "data": {
      "text/html": [
       "<div>\n",
       "<style scoped>\n",
       "    .dataframe tbody tr th:only-of-type {\n",
       "        vertical-align: middle;\n",
       "    }\n",
       "\n",
       "    .dataframe tbody tr th {\n",
       "        vertical-align: top;\n",
       "    }\n",
       "\n",
       "    .dataframe thead th {\n",
       "        text-align: right;\n",
       "    }\n",
       "</style>\n",
       "<table border=\"1\" class=\"dataframe\">\n",
       "  <thead>\n",
       "    <tr style=\"text-align: right;\">\n",
       "      <th></th>\n",
       "      <th>session</th>\n",
       "      <th>fn</th>\n",
       "      <th>idx</th>\n",
       "      <th>sex</th>\n",
       "      <th>emotion</th>\n",
       "      <th>text</th>\n",
       "      <th>audio_caption</th>\n",
       "      <th>bio</th>\n",
       "    </tr>\n",
       "  </thead>\n",
       "  <tbody>\n",
       "    <tr>\n",
       "      <th>0</th>\n",
       "      <td>1</td>\n",
       "      <td>Ses01F_impro07</td>\n",
       "      <td>0</td>\n",
       "      <td>M</td>\n",
       "      <td>exc</td>\n",
       "      <td>Did you get the letter?</td>\n",
       "      <td>The speaker's voice is that of an English male...</td>\n",
       "      <td>Speaker M appears to be articulate and compose...</td>\n",
       "    </tr>\n",
       "    <tr>\n",
       "      <th>1</th>\n",
       "      <td>1</td>\n",
       "      <td>Ses01F_impro07</td>\n",
       "      <td>1</td>\n",
       "      <td>F</td>\n",
       "      <td>exc</td>\n",
       "      <td>Yes.  There's a big envelope it says, you're i...</td>\n",
       "      <td>The speaker's voice is high-pitched with a you...</td>\n",
       "      <td>Speaker F appears to be a straightforward and ...</td>\n",
       "    </tr>\n",
       "    <tr>\n",
       "      <th>2</th>\n",
       "      <td>1</td>\n",
       "      <td>Ses01F_impro07</td>\n",
       "      <td>2</td>\n",
       "      <td>M</td>\n",
       "      <td>exc</td>\n",
       "      <td>Yeah. That is so awesome.</td>\n",
       "      <td>The speaker's voice has a bright quality with ...</td>\n",
       "      <td>Speaker M appears to be articulate and compose...</td>\n",
       "    </tr>\n",
       "    <tr>\n",
       "      <th>3</th>\n",
       "      <td>1</td>\n",
       "      <td>Ses01F_impro07</td>\n",
       "      <td>4</td>\n",
       "      <td>M</td>\n",
       "      <td>exc</td>\n",
       "      <td>Oh my God. What are you going to do? [LAUGHTER]</td>\n",
       "      <td>The speaker's voice has a light and airy quali...</td>\n",
       "      <td>Speaker M appears to be articulate and compose...</td>\n",
       "    </tr>\n",
       "    <tr>\n",
       "      <th>4</th>\n",
       "      <td>1</td>\n",
       "      <td>Ses01F_impro07</td>\n",
       "      <td>5</td>\n",
       "      <td>F</td>\n",
       "      <td>exc</td>\n",
       "      <td>So I have to move back to the ghetto but...I k...</td>\n",
       "      <td>The speaker's voice has a light and airy quali...</td>\n",
       "      <td>Speaker F appears to be a straightforward and ...</td>\n",
       "    </tr>\n",
       "  </tbody>\n",
       "</table>\n",
       "</div>"
      ],
      "text/plain": [
       "   session              fn  idx sex emotion  \\\n",
       "0        1  Ses01F_impro07    0   M     exc   \n",
       "1        1  Ses01F_impro07    1   F     exc   \n",
       "2        1  Ses01F_impro07    2   M     exc   \n",
       "3        1  Ses01F_impro07    4   M     exc   \n",
       "4        1  Ses01F_impro07    5   F     exc   \n",
       "\n",
       "                                                text  \\\n",
       "0                            Did you get the letter?   \n",
       "1  Yes.  There's a big envelope it says, you're i...   \n",
       "2                          Yeah. That is so awesome.   \n",
       "3    Oh my God. What are you going to do? [LAUGHTER]   \n",
       "4  So I have to move back to the ghetto but...I k...   \n",
       "\n",
       "                                       audio_caption  \\\n",
       "0  The speaker's voice is that of an English male...   \n",
       "1  The speaker's voice is high-pitched with a you...   \n",
       "2  The speaker's voice has a bright quality with ...   \n",
       "3  The speaker's voice has a light and airy quali...   \n",
       "4  The speaker's voice has a light and airy quali...   \n",
       "\n",
       "                                                 bio  \n",
       "0  Speaker M appears to be articulate and compose...  \n",
       "1  Speaker F appears to be a straightforward and ...  \n",
       "2  Speaker M appears to be articulate and compose...  \n",
       "3  Speaker M appears to be articulate and compose...  \n",
       "4  Speaker F appears to be a straightforward and ...  "
      ]
     },
     "execution_count": 8,
     "metadata": {},
     "output_type": "execute_result"
    }
   ],
   "source": [
    "merged = data.merge(bios, on=['fn', 'sex'])\n",
    "merged.head()"
   ]
  },
  {
   "cell_type": "code",
   "execution_count": 9,
   "metadata": {},
   "outputs": [
    {
     "data": {
      "text/plain": [
       "(10038, 8)"
      ]
     },
     "execution_count": 9,
     "metadata": {},
     "output_type": "execute_result"
    }
   ],
   "source": [
    "merged.shape"
   ]
  },
  {
   "cell_type": "code",
   "execution_count": 10,
   "metadata": {},
   "outputs": [],
   "source": [
    "merged.to_csv('../data/IEMOCAP/modified_data.csv', index=False)"
   ]
  },
  {
   "cell_type": "code",
   "execution_count": null,
   "metadata": {},
   "outputs": [],
   "source": []
  }
 ],
 "metadata": {
  "kernelspec": {
   "display_name": "eacl_venv",
   "language": "python",
   "name": "eacl_venv"
  },
  "language_info": {
   "codemirror_mode": {
    "name": "ipython",
    "version": 3
   },
   "file_extension": ".py",
   "mimetype": "text/x-python",
   "name": "python",
   "nbconvert_exporter": "python",
   "pygments_lexer": "ipython3",
   "version": "3.10.16"
  }
 },
 "nbformat": 4,
 "nbformat_minor": 4
}
