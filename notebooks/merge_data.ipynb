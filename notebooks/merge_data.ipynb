{
 "cells": [
  {
   "cell_type": "code",
   "execution_count": 1,
   "id": "dbd4b4dc-b4c6-42ad-9e69-aad63262d736",
   "metadata": {},
   "outputs": [],
   "source": [
    "import pandas as pd"
   ]
  },
  {
   "cell_type": "markdown",
   "id": "d36019b9-0ed2-4a87-b71e-ea0af505e392",
   "metadata": {},
   "source": [
    "# IEMOCAP"
   ]
  },
  {
   "cell_type": "code",
   "execution_count": 2,
   "id": "ab397b7b-1531-42ff-82fc-1eebf7e80f6b",
   "metadata": {},
   "outputs": [
    {
     "data": {
      "text/plain": [
       "((10020, 7), (10020, 5), (10020, 5), (10038, 5))"
      ]
     },
     "execution_count": 2,
     "metadata": {},
     "output_type": "execute_result"
    }
   ],
   "source": [
    "audio = pd.read_csv('../data/IEMOCAP/modified_audio_data.csv')\n",
    "visual = pd.read_csv('../data/IEMOCAP/modified_video_data.csv').drop(['emotion', 'text'], axis=1)\n",
    "au = pd.read_csv('../data/IEMOCAP/modified_au_data.csv').drop([\t'Unnamed: 0', 'emotion', 'text'], axis=1)\n",
    "biography = pd.read_csv('../data/IEMOCAP/modified_bio_data.csv').drop(['emotion', 'text', 'audio_caption'], axis=1)\n",
    "audio.shape, visual.shape, au.shape, biography.shape"
   ]
  },
  {
   "cell_type": "code",
   "execution_count": 3,
   "id": "5f716bd2-86bd-4198-9fe5-73568a9cbc82",
   "metadata": {},
   "outputs": [
    {
     "data": {
      "text/plain": [
       "0"
      ]
     },
     "execution_count": 3,
     "metadata": {},
     "output_type": "execute_result"
    }
   ],
   "source": [
    "merged_df = audio.merge(visual, on=['session', 'fn', 'idx', 'sex'])\n",
    "merged_df = merged_df.merge(au, on=['session', 'fn', 'idx', 'sex'])\n",
    "merged_df = merged_df.merge(biography, on=['session', 'fn', 'idx', 'sex'])\n",
    "merged_df.isna().sum().sum()"
   ]
  },
  {
   "cell_type": "code",
   "execution_count": 4,
   "id": "a1d7bb0e-a52e-436f-b00e-971d628748a1",
   "metadata": {},
   "outputs": [
    {
     "data": {
      "text/plain": [
       "((7853, 10), (2167, 10))"
      ]
     },
     "execution_count": 4,
     "metadata": {},
     "output_type": "execute_result"
    }
   ],
   "source": [
    "IEMOCAP_train = merged_df[merged_df.session != 5]\n",
    "IEMOCAP_test = merged_df[merged_df.session == 5]\n",
    "IEMOCAP_train.shape, IEMOCAP_test.shape"
   ]
  },
  {
   "cell_type": "code",
   "execution_count": 5,
   "id": "388dbe4f-40ea-4912-97d8-aa6e1534f312",
   "metadata": {},
   "outputs": [],
   "source": [
    "IEMOCAP_train.to_csv('../data/IEMOCAP/modified_train_data_v5.csv', index=False)\n",
    "IEMOCAP_test.to_csv('../data/IEMOCAP/modified_test_data_v5.csv', index=False)"
   ]
  },
  {
   "cell_type": "markdown",
   "id": "05e88ac8-aef5-4fc9-87d7-fb00dcd482a8",
   "metadata": {},
   "source": [
    "# MELD"
   ]
  },
  {
   "cell_type": "code",
   "execution_count": 6,
   "id": "242024ec-24fb-4509-a830-250aca163fbd",
   "metadata": {},
   "outputs": [
    {
     "data": {
      "text/plain": [
       "((9989, 15), (2610, 15))"
      ]
     },
     "execution_count": 6,
     "metadata": {},
     "output_type": "execute_result"
    }
   ],
   "source": [
    "MELD_train = pd.read_csv('../data/MELD/modified4_train_data.csv').drop(['Unnamed: 0'], axis=1)\n",
    "MELD_test = pd.read_csv('../data/MELD/modified4_test_data.csv').drop(['Unnamed: 0'], axis=1)\n",
    "MELD_train.shape, MELD_test.shape"
   ]
  },
  {
   "cell_type": "code",
   "execution_count": 7,
   "id": "5caebae5-5281-4607-8a76-ec1dd2ac057c",
   "metadata": {},
   "outputs": [
    {
     "data": {
      "text/plain": [
       "((9989, 12), (2610, 12))"
      ]
     },
     "execution_count": 7,
     "metadata": {},
     "output_type": "execute_result"
    }
   ],
   "source": [
    "visual = pd.read_csv('../data/MELD/modified_video_data.csv')\n",
    "visual_test = pd.read_csv('../data/MELD/modified_video_test_data.csv')\n",
    "visual.shape, visual_test.shape"
   ]
  },
  {
   "cell_type": "code",
   "execution_count": 8,
   "id": "39cfaffe-9be1-4bba-a465-5041446ef283",
   "metadata": {},
   "outputs": [
    {
     "data": {
      "text/plain": [
       "((9989, 12), (2610, 12))"
      ]
     },
     "execution_count": 8,
     "metadata": {},
     "output_type": "execute_result"
    }
   ],
   "source": [
    "audio = pd.read_csv('../data/MELD/modified_audio_data.csv')\n",
    "audio_test = pd.read_csv('../data/MELD/modified_audio_test_data.csv')\n",
    "audio.shape, audio_test.shape"
   ]
  },
  {
   "cell_type": "code",
   "execution_count": 9,
   "id": "7323903d-83cf-428f-beb4-2bb3ac858f7d",
   "metadata": {},
   "outputs": [
    {
     "data": {
      "text/plain": [
       "(0, 0)"
      ]
     },
     "execution_count": 9,
     "metadata": {},
     "output_type": "execute_result"
    }
   ],
   "source": [
    "MELD_train['audio_caption'] = audio['audio_caption']\n",
    "MELD_train['visual_caption'] = visual['video_caption']\n",
    "MELD_test['audio_caption'] = audio_test['audio_caption']\n",
    "MELD_test['visual_caption'] = visual_test['video_caption']\n",
    "MELD_train.isna().sum().sum(), MELD_test.isna().sum().sum()"
   ]
  },
  {
   "cell_type": "code",
   "execution_count": 10,
   "id": "77051526-150b-4cfe-a52a-1e7ddfe78827",
   "metadata": {},
   "outputs": [],
   "source": [
    "MELD_train.to_csv('../data/MELD/modified_train_data_v5.csv', index=False)\n",
    "MELD_test.to_csv('../data/MELD/modified_test_data_v5.csv', index=False)"
   ]
  },
  {
   "cell_type": "markdown",
   "id": "7fdd4c67-e724-47da-b9cf-7dd0852a6f1d",
   "metadata": {},
   "source": [
    "# Merged"
   ]
  },
  {
   "cell_type": "code",
   "execution_count": 11,
   "id": "f541b987-ee65-472e-84fb-ca16e3dda867",
   "metadata": {},
   "outputs": [],
   "source": [
    "def merge_data(df1, df2, mapping):\n",
    "    df2['Emotion'] = [mapping[e] for e in df2.Emotion]\n",
    "    df2['session'] = -1\n",
    "    df2['fn'] = df2['Dialogue_ID']\n",
    "    df2['idx'] = df2['Utterance_ID']\n",
    "    df2['sex'] = df2['Speaker']\n",
    "    \n",
    "    df2 = df2.rename(columns={'Utterance': 'text', 'visual_caption': 'video_caption', \n",
    "                              'Emotion': 'emotion', 'Bio': 'bio'})\n",
    "    \n",
    "    cols = ['session', 'fn', 'idx', 'sex', 'emotion', 'text', 'audio_caption', 'video_caption', 'aus', 'bio']\n",
    "    \n",
    "    df1 = df1[cols]\n",
    "    df2 = df2[cols]\n",
    "    \n",
    "    df_merged = pd.concat([df1, df2], ignore_index=True)\n",
    "    df_merged = df_merged.sort_values(by=['session', 'fn', 'idx']).reset_index(drop=True)\n",
    "    \n",
    "    return df_merged"
   ]
  },
  {
   "cell_type": "code",
   "execution_count": 12,
   "id": "8c38bd5b-c831-45fb-a2b7-4250a29fdaac",
   "metadata": {},
   "outputs": [
    {
     "data": {
      "text/plain": [
       "((17842, 10), (4777, 10))"
      ]
     },
     "execution_count": 12,
     "metadata": {},
     "output_type": "execute_result"
    }
   ],
   "source": [
    "mapping = {'neutral': 'neu', 'surprise': 'exc', 'fear': 'fru', 'sadness': 'sad', \n",
    "           'joy': 'hap', 'disgust': 'fru', 'anger': 'ang'}\n",
    "train = merge_data(IEMOCAP_train, MELD_train, mapping)\n",
    "test = merge_data(IEMOCAP_test, MELD_test, mapping)\n",
    "train.shape, test.shape"
   ]
  },
  {
   "cell_type": "code",
   "execution_count": 13,
   "id": "c794db82-2dd8-4fff-8fbb-d24cc91d0bd6",
   "metadata": {},
   "outputs": [
    {
     "data": {
      "text/html": [
       "<div>\n",
       "<style scoped>\n",
       "    .dataframe tbody tr th:only-of-type {\n",
       "        vertical-align: middle;\n",
       "    }\n",
       "\n",
       "    .dataframe tbody tr th {\n",
       "        vertical-align: top;\n",
       "    }\n",
       "\n",
       "    .dataframe thead th {\n",
       "        text-align: right;\n",
       "    }\n",
       "</style>\n",
       "<table border=\"1\" class=\"dataframe\">\n",
       "  <thead>\n",
       "    <tr style=\"text-align: right;\">\n",
       "      <th></th>\n",
       "      <th>session</th>\n",
       "      <th>fn</th>\n",
       "      <th>idx</th>\n",
       "      <th>sex</th>\n",
       "      <th>emotion</th>\n",
       "      <th>text</th>\n",
       "      <th>audio_caption</th>\n",
       "      <th>video_caption</th>\n",
       "      <th>aus</th>\n",
       "      <th>bio</th>\n",
       "    </tr>\n",
       "  </thead>\n",
       "  <tbody>\n",
       "    <tr>\n",
       "      <th>2911</th>\n",
       "      <td>-1</td>\n",
       "      <td>307</td>\n",
       "      <td>7</td>\n",
       "      <td>Ross</td>\n",
       "      <td>neu</td>\n",
       "      <td>We said it was only going to be two weeks, yk...</td>\n",
       "      <td>The speaker's voice has a slightly deep tone w...</td>\n",
       "      <td>The image depicts two individuals seated close...</td>\n",
       "      <td>Nan</td>\n",
       "      <td>Ross seems inquisitive and detail-oriented, as...</td>\n",
       "    </tr>\n",
       "    <tr>\n",
       "      <th>8848</th>\n",
       "      <td>-1</td>\n",
       "      <td>930</td>\n",
       "      <td>10</td>\n",
       "      <td>Ross</td>\n",
       "      <td>neu</td>\n",
       "      <td>Die Hard</td>\n",
       "      <td>The speaker's voice possesses a bright quality...</td>\n",
       "      <td>The image depicts a scene from the popular TV ...</td>\n",
       "      <td>Inner Brow Raiser, Outer Brow Raiser, Upper Li...</td>\n",
       "      <td>Based on the given conversation, it seems that...</td>\n",
       "    </tr>\n",
       "    <tr>\n",
       "      <th>10722</th>\n",
       "      <td>1</td>\n",
       "      <td>Ses01F_script03_1</td>\n",
       "      <td>31</td>\n",
       "      <td>M</td>\n",
       "      <td>exc</td>\n",
       "      <td>Oh of course.  We are figures of fun.  All right.</td>\n",
       "      <td>The speaker's voice possesses a medium pitch w...</td>\n",
       "      <td>The image appears to be a split-screen video c...</td>\n",
       "      <td>Brow Lowerer, Upper Lid Raiser, Lid Tightener,...</td>\n",
       "      <td>Speaker M appears to be assertive and direct i...</td>\n",
       "    </tr>\n",
       "    <tr>\n",
       "      <th>5424</th>\n",
       "      <td>-1</td>\n",
       "      <td>575</td>\n",
       "      <td>2</td>\n",
       "      <td>Julie</td>\n",
       "      <td>neu</td>\n",
       "      <td>No Cobb, as in cobb salad.</td>\n",
       "      <td>The speaker's voice possesses a light and airy...</td>\n",
       "      <td>The image depicts a scene from what appears to...</td>\n",
       "      <td>Nan</td>\n",
       "      <td>There is no mention or presence of a speaker n...</td>\n",
       "    </tr>\n",
       "    <tr>\n",
       "      <th>9396</th>\n",
       "      <td>-1</td>\n",
       "      <td>982</td>\n",
       "      <td>4</td>\n",
       "      <td>Joey</td>\n",
       "      <td>exc</td>\n",
       "      <td>Really?!</td>\n",
       "      <td>The speaker's voice possesses a light and airy...</td>\n",
       "      <td>The image depicts two individuals engaged in c...</td>\n",
       "      <td>Inner Brow Raiser, Brow Lowerer, Lip Corner De...</td>\n",
       "      <td>There is no mention or reference to a characte...</td>\n",
       "    </tr>\n",
       "  </tbody>\n",
       "</table>\n",
       "</div>"
      ],
      "text/plain": [
       "       session                 fn  idx    sex emotion  \\\n",
       "2911        -1                307    7   Ross     neu   \n",
       "8848        -1                930   10   Ross     neu   \n",
       "10722        1  Ses01F_script03_1   31      M     exc   \n",
       "5424        -1                575    2  Julie     neu   \n",
       "9396        -1                982    4   Joey     exc   \n",
       "\n",
       "                                                    text  \\\n",
       "2911   We said it was only going to be two weeks, yk...   \n",
       "8848                                            Die Hard   \n",
       "10722  Oh of course.  We are figures of fun.  All right.   \n",
       "5424                          No Cobb, as in cobb salad.   \n",
       "9396                                            Really?!   \n",
       "\n",
       "                                           audio_caption  \\\n",
       "2911   The speaker's voice has a slightly deep tone w...   \n",
       "8848   The speaker's voice possesses a bright quality...   \n",
       "10722  The speaker's voice possesses a medium pitch w...   \n",
       "5424   The speaker's voice possesses a light and airy...   \n",
       "9396   The speaker's voice possesses a light and airy...   \n",
       "\n",
       "                                           video_caption  \\\n",
       "2911   The image depicts two individuals seated close...   \n",
       "8848   The image depicts a scene from the popular TV ...   \n",
       "10722  The image appears to be a split-screen video c...   \n",
       "5424   The image depicts a scene from what appears to...   \n",
       "9396   The image depicts two individuals engaged in c...   \n",
       "\n",
       "                                                     aus  \\\n",
       "2911                                                 Nan   \n",
       "8848   Inner Brow Raiser, Outer Brow Raiser, Upper Li...   \n",
       "10722  Brow Lowerer, Upper Lid Raiser, Lid Tightener,...   \n",
       "5424                                                 Nan   \n",
       "9396   Inner Brow Raiser, Brow Lowerer, Lip Corner De...   \n",
       "\n",
       "                                                     bio  \n",
       "2911   Ross seems inquisitive and detail-oriented, as...  \n",
       "8848   Based on the given conversation, it seems that...  \n",
       "10722  Speaker M appears to be assertive and direct i...  \n",
       "5424   There is no mention or presence of a speaker n...  \n",
       "9396   There is no mention or reference to a characte...  "
      ]
     },
     "execution_count": 13,
     "metadata": {},
     "output_type": "execute_result"
    }
   ],
   "source": [
    "train.sample(5)"
   ]
  },
  {
   "cell_type": "code",
   "execution_count": null,
   "id": "cca50b79-2c96-4c08-998c-4c9759961bf9",
   "metadata": {},
   "outputs": [],
   "source": [
    "train.to_csv('../data/IEMOCAP/modified_train_data(+MELD)_v5.csv', index=False)\n",
    "test.to_csv('../data/IEMOCAP/modified_test_data(+MELD)_v5.csv', index=False)"
   ]
  },
  {
   "cell_type": "code",
   "execution_count": null,
   "id": "ac361257-5fbb-4b87-a738-0069a718d016",
   "metadata": {},
   "outputs": [],
   "source": []
  }
 ],
 "metadata": {
  "kernelspec": {
   "display_name": "torch",
   "language": "python",
   "name": "torch"
  },
  "language_info": {
   "codemirror_mode": {
    "name": "ipython",
    "version": 3
   },
   "file_extension": ".py",
   "mimetype": "text/x-python",
   "name": "python",
   "nbconvert_exporter": "python",
   "pygments_lexer": "ipython3",
   "version": "3.11.9"
  }
 },
 "nbformat": 4,
 "nbformat_minor": 5
}
