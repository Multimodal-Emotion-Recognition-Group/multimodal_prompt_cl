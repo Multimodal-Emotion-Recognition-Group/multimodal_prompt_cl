{
 "cells": [
  {
   "cell_type": "code",
   "execution_count": 2,
   "metadata": {},
   "outputs": [],
   "source": [
    "import pandas as pd\n",
    "import json"
   ]
  },
  {
   "cell_type": "code",
   "execution_count": 33,
   "metadata": {},
   "outputs": [
    {
     "data": {
      "text/html": [
       "<div>\n",
       "<style scoped>\n",
       "    .dataframe tbody tr th:only-of-type {\n",
       "        vertical-align: middle;\n",
       "    }\n",
       "\n",
       "    .dataframe tbody tr th {\n",
       "        vertical-align: top;\n",
       "    }\n",
       "\n",
       "    .dataframe thead th {\n",
       "        text-align: right;\n",
       "    }\n",
       "</style>\n",
       "<table border=\"1\" class=\"dataframe\">\n",
       "  <thead>\n",
       "    <tr style=\"text-align: right;\">\n",
       "      <th></th>\n",
       "      <th>session</th>\n",
       "      <th>fn</th>\n",
       "      <th>idx</th>\n",
       "      <th>sex</th>\n",
       "      <th>emotion</th>\n",
       "      <th>text</th>\n",
       "      <th>audio_caption</th>\n",
       "      <th>video_caption</th>\n",
       "      <th>aus</th>\n",
       "      <th>bio</th>\n",
       "    </tr>\n",
       "  </thead>\n",
       "  <tbody>\n",
       "    <tr>\n",
       "      <th>0</th>\n",
       "      <td>5</td>\n",
       "      <td>Ses05F_impro03</td>\n",
       "      <td>0</td>\n",
       "      <td>F</td>\n",
       "      <td>exc</td>\n",
       "      <td>Okay, so big news.</td>\n",
       "      <td>The speaker's voice possesses a bright quality...</td>\n",
       "      <td>The image appears to be a split-screen capture...</td>\n",
       "      <td>Nose Wrinkler, Lip Corner Depressor, Chin Raiser</td>\n",
       "      <td>Speaker F appears to be a straightforward and ...</td>\n",
       "    </tr>\n",
       "    <tr>\n",
       "      <th>1</th>\n",
       "      <td>5</td>\n",
       "      <td>Ses05F_impro03</td>\n",
       "      <td>1</td>\n",
       "      <td>M</td>\n",
       "      <td>exc</td>\n",
       "      <td>What?</td>\n",
       "      <td>The speaker's voice has a slightly deep tone w...</td>\n",
       "      <td>The image appears to be a split-screen video c...</td>\n",
       "      <td>Cheek Raiser, Lip Corner Puller</td>\n",
       "      <td>Speaker M appears to be articulate and asserti...</td>\n",
       "    </tr>\n",
       "    <tr>\n",
       "      <th>2</th>\n",
       "      <td>5</td>\n",
       "      <td>Ses05F_impro03</td>\n",
       "      <td>2</td>\n",
       "      <td>M</td>\n",
       "      <td>exc</td>\n",
       "      <td>Come on, what?</td>\n",
       "      <td>The speaker's voice has a high pitch and a sli...</td>\n",
       "      <td>The image appears to be a split-screen capture...</td>\n",
       "      <td>Inner Brow Raiser, Outer Brow Raiser, Upper Li...</td>\n",
       "      <td>Speaker M appears to be articulate and asserti...</td>\n",
       "    </tr>\n",
       "    <tr>\n",
       "      <th>3</th>\n",
       "      <td>5</td>\n",
       "      <td>Ses05F_impro03</td>\n",
       "      <td>3</td>\n",
       "      <td>F</td>\n",
       "      <td>exc</td>\n",
       "      <td>I'm getting married.</td>\n",
       "      <td>The speaker's voice has a bright quality with ...</td>\n",
       "      <td>The image appears to be a split-screen capture...</td>\n",
       "      <td>Cheek Raiser, Lip Corner Puller</td>\n",
       "      <td>Speaker F appears to be a straightforward and ...</td>\n",
       "    </tr>\n",
       "    <tr>\n",
       "      <th>4</th>\n",
       "      <td>5</td>\n",
       "      <td>Ses05F_impro03</td>\n",
       "      <td>4</td>\n",
       "      <td>M</td>\n",
       "      <td>exc</td>\n",
       "      <td>Shut up.</td>\n",
       "      <td>The speaker's voice is that of an English-spea...</td>\n",
       "      <td>The image appears to be a split-screen video c...</td>\n",
       "      <td>Cheek Raiser, Lip Corner Puller</td>\n",
       "      <td>Speaker M appears to be articulate and asserti...</td>\n",
       "    </tr>\n",
       "  </tbody>\n",
       "</table>\n",
       "</div>"
      ],
      "text/plain": [
       "   session              fn  idx sex emotion                  text  \\\n",
       "0        5  Ses05F_impro03    0   F     exc    Okay, so big news.   \n",
       "1        5  Ses05F_impro03    1   M     exc                 What?   \n",
       "2        5  Ses05F_impro03    2   M     exc        Come on, what?   \n",
       "3        5  Ses05F_impro03    3   F     exc  I'm getting married.   \n",
       "4        5  Ses05F_impro03    4   M     exc              Shut up.   \n",
       "\n",
       "                                       audio_caption  \\\n",
       "0  The speaker's voice possesses a bright quality...   \n",
       "1  The speaker's voice has a slightly deep tone w...   \n",
       "2  The speaker's voice has a high pitch and a sli...   \n",
       "3  The speaker's voice has a bright quality with ...   \n",
       "4  The speaker's voice is that of an English-spea...   \n",
       "\n",
       "                                       video_caption  \\\n",
       "0  The image appears to be a split-screen capture...   \n",
       "1  The image appears to be a split-screen video c...   \n",
       "2  The image appears to be a split-screen capture...   \n",
       "3  The image appears to be a split-screen capture...   \n",
       "4  The image appears to be a split-screen video c...   \n",
       "\n",
       "                                                 aus  \\\n",
       "0   Nose Wrinkler, Lip Corner Depressor, Chin Raiser   \n",
       "1                    Cheek Raiser, Lip Corner Puller   \n",
       "2  Inner Brow Raiser, Outer Brow Raiser, Upper Li...   \n",
       "3                    Cheek Raiser, Lip Corner Puller   \n",
       "4                    Cheek Raiser, Lip Corner Puller   \n",
       "\n",
       "                                                 bio  \n",
       "0  Speaker F appears to be a straightforward and ...  \n",
       "1  Speaker M appears to be articulate and asserti...  \n",
       "2  Speaker M appears to be articulate and asserti...  \n",
       "3  Speaker F appears to be a straightforward and ...  \n",
       "4  Speaker M appears to be articulate and asserti...  "
      ]
     },
     "execution_count": 33,
     "metadata": {},
     "output_type": "execute_result"
    }
   ],
   "source": [
    "data = pd.read_csv('../data/IEMOCAP/modified_test_data_v5.csv')\n",
    "\n",
    "data.head()"
   ]
  },
  {
   "cell_type": "code",
   "execution_count": 34,
   "metadata": {},
   "outputs": [],
   "source": [
    "with open('../data/IEMOCAP/modified_train_data.json', 'r') as f:\n",
    "    json_data = json.load(f)\n",
    "\n",
    "# json_data"
   ]
  },
  {
   "cell_type": "code",
   "execution_count": 35,
   "metadata": {},
   "outputs": [
    {
     "data": {
      "text/plain": [
       "100"
      ]
     },
     "execution_count": 35,
     "metadata": {},
     "output_type": "execute_result"
    }
   ],
   "source": [
    "len(json_data)"
   ]
  },
  {
   "cell_type": "code",
   "execution_count": 37,
   "metadata": {},
   "outputs": [
    {
     "data": {
      "text/html": [
       "<div>\n",
       "<style scoped>\n",
       "    .dataframe tbody tr th:only-of-type {\n",
       "        vertical-align: middle;\n",
       "    }\n",
       "\n",
       "    .dataframe tbody tr th {\n",
       "        vertical-align: top;\n",
       "    }\n",
       "\n",
       "    .dataframe thead th {\n",
       "        text-align: right;\n",
       "    }\n",
       "</style>\n",
       "<table border=\"1\" class=\"dataframe\">\n",
       "  <thead>\n",
       "    <tr style=\"text-align: right;\">\n",
       "      <th></th>\n",
       "      <th>session</th>\n",
       "      <th>fn</th>\n",
       "      <th>idx</th>\n",
       "      <th>sex</th>\n",
       "      <th>emotion</th>\n",
       "      <th>text</th>\n",
       "      <th>audio_caption</th>\n",
       "      <th>video_caption</th>\n",
       "      <th>aus</th>\n",
       "      <th>bio</th>\n",
       "      <th>speaker</th>\n",
       "    </tr>\n",
       "  </thead>\n",
       "  <tbody>\n",
       "    <tr>\n",
       "      <th>695</th>\n",
       "      <td>5</td>\n",
       "      <td>Ses05F_impro01</td>\n",
       "      <td>0</td>\n",
       "      <td>F</td>\n",
       "      <td>neu</td>\n",
       "      <td>Hi, I need an ID.</td>\n",
       "      <td>The speaker's voice has a slightly flat intona...</td>\n",
       "      <td>The image appears to be a split-screen capture...</td>\n",
       "      <td>Inner Brow Raiser, Outer Brow Raiser, Upper Li...</td>\n",
       "      <td>Speaker F comes across as calm and composed, o...</td>\n",
       "      <td>Ses05F_impro01_F</td>\n",
       "    </tr>\n",
       "    <tr>\n",
       "      <th>696</th>\n",
       "      <td>5</td>\n",
       "      <td>Ses05F_impro01</td>\n",
       "      <td>1</td>\n",
       "      <td>M</td>\n",
       "      <td>neu</td>\n",
       "      <td>ahh Yeah, this is the wrong line.  I'm sorry. ...</td>\n",
       "      <td>The speaker's voice has a slightly deep tone w...</td>\n",
       "      <td>The image appears to be a split-screen capture...</td>\n",
       "      <td>Inner Brow Raiser, Outer Brow Raiser, Upper Li...</td>\n",
       "      <td>Speaker M appears to be a confident and assert...</td>\n",
       "      <td>Ses05F_impro01_M</td>\n",
       "    </tr>\n",
       "    <tr>\n",
       "      <th>697</th>\n",
       "      <td>5</td>\n",
       "      <td>Ses05F_impro01</td>\n",
       "      <td>3</td>\n",
       "      <td>F</td>\n",
       "      <td>fru</td>\n",
       "      <td>Okay, I'm sorry, but I just stood in this line...</td>\n",
       "      <td>The speaker's voice has a slightly high pitch ...</td>\n",
       "      <td>The image appears to be a split-screen capture...</td>\n",
       "      <td>Inner Brow Raiser, Outer Brow Raiser, Brow Low...</td>\n",
       "      <td>Speaker F comes across as calm and composed, o...</td>\n",
       "      <td>Ses05F_impro01_F</td>\n",
       "    </tr>\n",
       "    <tr>\n",
       "      <th>698</th>\n",
       "      <td>5</td>\n",
       "      <td>Ses05F_impro01</td>\n",
       "      <td>4</td>\n",
       "      <td>M</td>\n",
       "      <td>fru</td>\n",
       "      <td>I mean, there's really nothing I can do for yo...</td>\n",
       "      <td>The speaker's voice has a male characteristic ...</td>\n",
       "      <td>The image appears to be a split-screen video c...</td>\n",
       "      <td>Brow Lowerer, Upper Lid Raiser, Lid Tightener,...</td>\n",
       "      <td>Speaker M appears to be a confident and assert...</td>\n",
       "      <td>Ses05F_impro01_M</td>\n",
       "    </tr>\n",
       "    <tr>\n",
       "      <th>699</th>\n",
       "      <td>5</td>\n",
       "      <td>Ses05F_impro01</td>\n",
       "      <td>5</td>\n",
       "      <td>F</td>\n",
       "      <td>fru</td>\n",
       "      <td>No, they told me-I'm sorry, but they told me t...</td>\n",
       "      <td>The speaker's voice has a slightly high pitch ...</td>\n",
       "      <td>The image appears to be a split-screen video c...</td>\n",
       "      <td>Inner Brow Raiser, Outer Brow Raiser, Upper Li...</td>\n",
       "      <td>Speaker F comes across as calm and composed, o...</td>\n",
       "      <td>Ses05F_impro01_F</td>\n",
       "    </tr>\n",
       "  </tbody>\n",
       "</table>\n",
       "</div>"
      ],
      "text/plain": [
       "     session              fn  idx sex emotion  \\\n",
       "695        5  Ses05F_impro01    0   F     neu   \n",
       "696        5  Ses05F_impro01    1   M     neu   \n",
       "697        5  Ses05F_impro01    3   F     fru   \n",
       "698        5  Ses05F_impro01    4   M     fru   \n",
       "699        5  Ses05F_impro01    5   F     fru   \n",
       "\n",
       "                                                  text  \\\n",
       "695                                  Hi, I need an ID.   \n",
       "696  ahh Yeah, this is the wrong line.  I'm sorry. ...   \n",
       "697  Okay, I'm sorry, but I just stood in this line...   \n",
       "698  I mean, there's really nothing I can do for yo...   \n",
       "699  No, they told me-I'm sorry, but they told me t...   \n",
       "\n",
       "                                         audio_caption  \\\n",
       "695  The speaker's voice has a slightly flat intona...   \n",
       "696  The speaker's voice has a slightly deep tone w...   \n",
       "697  The speaker's voice has a slightly high pitch ...   \n",
       "698  The speaker's voice has a male characteristic ...   \n",
       "699  The speaker's voice has a slightly high pitch ...   \n",
       "\n",
       "                                         video_caption  \\\n",
       "695  The image appears to be a split-screen capture...   \n",
       "696  The image appears to be a split-screen capture...   \n",
       "697  The image appears to be a split-screen capture...   \n",
       "698  The image appears to be a split-screen video c...   \n",
       "699  The image appears to be a split-screen video c...   \n",
       "\n",
       "                                                   aus  \\\n",
       "695  Inner Brow Raiser, Outer Brow Raiser, Upper Li...   \n",
       "696  Inner Brow Raiser, Outer Brow Raiser, Upper Li...   \n",
       "697  Inner Brow Raiser, Outer Brow Raiser, Brow Low...   \n",
       "698  Brow Lowerer, Upper Lid Raiser, Lid Tightener,...   \n",
       "699  Inner Brow Raiser, Outer Brow Raiser, Upper Li...   \n",
       "\n",
       "                                                   bio           speaker  \n",
       "695  Speaker F comes across as calm and composed, o...  Ses05F_impro01_F  \n",
       "696  Speaker M appears to be a confident and assert...  Ses05F_impro01_M  \n",
       "697  Speaker F comes across as calm and composed, o...  Ses05F_impro01_F  \n",
       "698  Speaker M appears to be a confident and assert...  Ses05F_impro01_M  \n",
       "699  Speaker F comes across as calm and composed, o...  Ses05F_impro01_F  "
      ]
     },
     "execution_count": 37,
     "metadata": {},
     "output_type": "execute_result"
    }
   ],
   "source": [
    "data = data.sort_values(['fn', 'idx'])\n",
    "data['speaker'] = data['fn'] + '_' + data['sex']\n",
    "data.head()"
   ]
  },
  {
   "cell_type": "code",
   "execution_count": 38,
   "metadata": {},
   "outputs": [
    {
     "data": {
      "text/plain": [
       "31"
      ]
     },
     "execution_count": 38,
     "metadata": {},
     "output_type": "execute_result"
    }
   ],
   "source": [
    "len(data['fn'].unique())"
   ]
  },
  {
   "cell_type": "code",
   "execution_count": 20,
   "metadata": {},
   "outputs": [],
   "source": [
    "iemocap4_emo = ['hap', 'sad', 'neu', 'ang']\n",
    "\n",
    "data = data[data['emotion'].apply(lambda x: x in iemocap4_emo)]"
   ]
  },
  {
   "cell_type": "code",
   "execution_count": 39,
   "metadata": {},
   "outputs": [],
   "source": [
    "new_json_data = []\n",
    "for diag in data['fn'].unique():\n",
    "    uttrs = []\n",
    "    diag_frame = data[data['fn'] == diag]\n",
    "    for i, row in diag_frame.iterrows():\n",
    "        utt = {\n",
    "            'text': row['text'],\n",
    "            'speaker': row['speaker'],\n",
    "            'label': row['emotion'],\n",
    "            'Bio': row['bio'],\n",
    "            'aus': row['aus'],\n",
    "            'audio_caption': row['audio_caption'],\n",
    "            'visual_caption': row['video_caption']\n",
    "        }\n",
    "        uttrs.append(utt)\n",
    "    new_json_data.append(uttrs)"
   ]
  },
  {
   "cell_type": "code",
   "execution_count": 40,
   "metadata": {},
   "outputs": [
    {
     "data": {
      "text/plain": [
       "(2167, 11)"
      ]
     },
     "execution_count": 40,
     "metadata": {},
     "output_type": "execute_result"
    }
   ],
   "source": [
    "data.shape"
   ]
  },
  {
   "cell_type": "code",
   "execution_count": 41,
   "metadata": {},
   "outputs": [],
   "source": [
    "with open('../data/IEMOCAP/modified_test_data_v5.json', 'w') as f:\n",
    "    json.dump(new_json_data, f)"
   ]
  },
  {
   "cell_type": "code",
   "execution_count": null,
   "metadata": {},
   "outputs": [],
   "source": []
  }
 ],
 "metadata": {
  "kernelspec": {
   "display_name": "eacl_venv",
   "language": "python",
   "name": "python3"
  },
  "language_info": {
   "codemirror_mode": {
    "name": "ipython",
    "version": 3
   },
   "file_extension": ".py",
   "mimetype": "text/x-python",
   "name": "python",
   "nbconvert_exporter": "python",
   "pygments_lexer": "ipython3",
   "version": "3.10.16"
  }
 },
 "nbformat": 4,
 "nbformat_minor": 2
}
